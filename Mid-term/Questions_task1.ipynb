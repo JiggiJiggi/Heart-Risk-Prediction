{
 "cells": [
  {
   "cell_type": "markdown",
   "metadata": {},
   "source": [
    "# Task#1:\n",
    "\n",
    "## Pandas\n",
    "\n",
    "The following exercises will help you practice key functions using the pandas library.\n",
    "\n",
    "### Question 1: import the pandas library"
   ]
  },
  {
   "cell_type": "code",
   "execution_count": 1,
   "metadata": {},
   "outputs": [],
   "source": [
    "##Your code here"
   ]
  },
  {
   "cell_type": "code",
   "execution_count": 2,
   "metadata": {},
   "outputs": [],
   "source": [
    "import pandas as pd"
   ]
  },
  {
   "cell_type": "markdown",
   "metadata": {},
   "source": [
    "### Question 2: \n",
    "\n",
    "Import the `exercises.csv` file in a pandas DataFrame"
   ]
  },
  {
   "cell_type": "code",
   "execution_count": null,
   "metadata": {},
   "outputs": [],
   "source": [
    "##Your code here"
   ]
  },
  {
   "cell_type": "code",
   "execution_count": 3,
   "metadata": {},
   "outputs": [
    {
     "data": {
      "text/html": [
       "<div>\n",
       "<style scoped>\n",
       "    .dataframe tbody tr th:only-of-type {\n",
       "        vertical-align: middle;\n",
       "    }\n",
       "\n",
       "    .dataframe tbody tr th {\n",
       "        vertical-align: top;\n",
       "    }\n",
       "\n",
       "    .dataframe thead th {\n",
       "        text-align: right;\n",
       "    }\n",
       "</style>\n",
       "<table border=\"1\" class=\"dataframe\">\n",
       "  <thead>\n",
       "    <tr style=\"text-align: right;\">\n",
       "      <th></th>\n",
       "      <th>Gender</th>\n",
       "      <th>City</th>\n",
       "      <th>Income</th>\n",
       "      <th>Occupation</th>\n",
       "      <th>Marital_Status</th>\n",
       "      <th>Fixed_Monthly_Expenses</th>\n",
       "    </tr>\n",
       "  </thead>\n",
       "  <tbody>\n",
       "    <tr>\n",
       "      <th>0</th>\n",
       "      <td>Male</td>\n",
       "      <td>London</td>\n",
       "      <td>40400</td>\n",
       "      <td>Teacher</td>\n",
       "      <td>Single</td>\n",
       "      <td>2080</td>\n",
       "    </tr>\n",
       "    <tr>\n",
       "      <th>1</th>\n",
       "      <td>Female</td>\n",
       "      <td>Vancouver</td>\n",
       "      <td>62845</td>\n",
       "      <td>University Lecturer</td>\n",
       "      <td>Married</td>\n",
       "      <td>2927</td>\n",
       "    </tr>\n",
       "    <tr>\n",
       "      <th>2</th>\n",
       "      <td>Female</td>\n",
       "      <td>Montreal</td>\n",
       "      <td>66439</td>\n",
       "      <td>Analyst</td>\n",
       "      <td>Single</td>\n",
       "      <td>2811</td>\n",
       "    </tr>\n",
       "    <tr>\n",
       "      <th>3</th>\n",
       "      <td>Female</td>\n",
       "      <td>Winnipeg</td>\n",
       "      <td>101547</td>\n",
       "      <td>Marketing Manager</td>\n",
       "      <td>Common Law</td>\n",
       "      <td>3500</td>\n",
       "    </tr>\n",
       "    <tr>\n",
       "      <th>4</th>\n",
       "      <td>Male</td>\n",
       "      <td>Calgary</td>\n",
       "      <td>46424</td>\n",
       "      <td>Analyst</td>\n",
       "      <td>Single</td>\n",
       "      <td>1300</td>\n",
       "    </tr>\n",
       "    <tr>\n",
       "      <th>5</th>\n",
       "      <td>Male</td>\n",
       "      <td>London</td>\n",
       "      <td>70443</td>\n",
       "      <td>Real Estate Agent</td>\n",
       "      <td>Common Law</td>\n",
       "      <td>2181</td>\n",
       "    </tr>\n",
       "    <tr>\n",
       "      <th>6</th>\n",
       "      <td>Not Specified</td>\n",
       "      <td>Winnipeg</td>\n",
       "      <td>57983</td>\n",
       "      <td>Researcher</td>\n",
       "      <td>Common Law</td>\n",
       "      <td>1423</td>\n",
       "    </tr>\n",
       "    <tr>\n",
       "      <th>7</th>\n",
       "      <td>Male</td>\n",
       "      <td>Calgary</td>\n",
       "      <td>87062</td>\n",
       "      <td>Professor</td>\n",
       "      <td>Married</td>\n",
       "      <td>2800</td>\n",
       "    </tr>\n",
       "    <tr>\n",
       "      <th>8</th>\n",
       "      <td>Female</td>\n",
       "      <td>London</td>\n",
       "      <td>54759</td>\n",
       "      <td>Researcher</td>\n",
       "      <td>Married</td>\n",
       "      <td>2065</td>\n",
       "    </tr>\n",
       "    <tr>\n",
       "      <th>9</th>\n",
       "      <td>Male</td>\n",
       "      <td>Toronto</td>\n",
       "      <td>97073</td>\n",
       "      <td>Professor</td>\n",
       "      <td>Married</td>\n",
       "      <td>3800</td>\n",
       "    </tr>\n",
       "    <tr>\n",
       "      <th>10</th>\n",
       "      <td>Female</td>\n",
       "      <td>Calgary</td>\n",
       "      <td>106505</td>\n",
       "      <td>Engineer</td>\n",
       "      <td>Married</td>\n",
       "      <td>4000</td>\n",
       "    </tr>\n",
       "    <tr>\n",
       "      <th>11</th>\n",
       "      <td>Not Specified</td>\n",
       "      <td>Calgary</td>\n",
       "      <td>66174</td>\n",
       "      <td>Engineer</td>\n",
       "      <td>Common Law</td>\n",
       "      <td>2436</td>\n",
       "    </tr>\n",
       "    <tr>\n",
       "      <th>12</th>\n",
       "      <td>Not Specified</td>\n",
       "      <td>Montreal</td>\n",
       "      <td>59369</td>\n",
       "      <td>Analyst</td>\n",
       "      <td>Single</td>\n",
       "      <td>1078</td>\n",
       "    </tr>\n",
       "    <tr>\n",
       "      <th>13</th>\n",
       "      <td>Female</td>\n",
       "      <td>Calgary</td>\n",
       "      <td>86825</td>\n",
       "      <td>Account Executive</td>\n",
       "      <td>Single</td>\n",
       "      <td>2378</td>\n",
       "    </tr>\n",
       "    <tr>\n",
       "      <th>14</th>\n",
       "      <td>Male</td>\n",
       "      <td>Winnipeg</td>\n",
       "      <td>61500</td>\n",
       "      <td>Account Manager</td>\n",
       "      <td>Single</td>\n",
       "      <td>1200</td>\n",
       "    </tr>\n",
       "    <tr>\n",
       "      <th>15</th>\n",
       "      <td>Male</td>\n",
       "      <td>Toronto</td>\n",
       "      <td>64145</td>\n",
       "      <td>Marketing Analyst</td>\n",
       "      <td>Common Law</td>\n",
       "      <td>2400</td>\n",
       "    </tr>\n",
       "    <tr>\n",
       "      <th>16</th>\n",
       "      <td>Male</td>\n",
       "      <td>Toronto</td>\n",
       "      <td>123891</td>\n",
       "      <td>Operations Director</td>\n",
       "      <td>Common Law</td>\n",
       "      <td>4398</td>\n",
       "    </tr>\n",
       "    <tr>\n",
       "      <th>17</th>\n",
       "      <td>Female</td>\n",
       "      <td>Winnipeg</td>\n",
       "      <td>107673</td>\n",
       "      <td>Investment Banker</td>\n",
       "      <td>Common Law</td>\n",
       "      <td>3876</td>\n",
       "    </tr>\n",
       "    <tr>\n",
       "      <th>18</th>\n",
       "      <td>Female</td>\n",
       "      <td>Toronto</td>\n",
       "      <td>69109</td>\n",
       "      <td>Teacher</td>\n",
       "      <td>Married</td>\n",
       "      <td>2987</td>\n",
       "    </tr>\n",
       "    <tr>\n",
       "      <th>19</th>\n",
       "      <td>Male</td>\n",
       "      <td>Calgary</td>\n",
       "      <td>62459</td>\n",
       "      <td>Researcher</td>\n",
       "      <td>Married</td>\n",
       "      <td>2377</td>\n",
       "    </tr>\n",
       "    <tr>\n",
       "      <th>20</th>\n",
       "      <td>Male</td>\n",
       "      <td>Toronto</td>\n",
       "      <td>78712</td>\n",
       "      <td>Associate Professor</td>\n",
       "      <td>Common Law</td>\n",
       "      <td>2898</td>\n",
       "    </tr>\n",
       "    <tr>\n",
       "      <th>21</th>\n",
       "      <td>Male</td>\n",
       "      <td>Toronto</td>\n",
       "      <td>67107</td>\n",
       "      <td>Researcher</td>\n",
       "      <td>Single</td>\n",
       "      <td>1787</td>\n",
       "    </tr>\n",
       "    <tr>\n",
       "      <th>22</th>\n",
       "      <td>Male</td>\n",
       "      <td>London</td>\n",
       "      <td>83477</td>\n",
       "      <td>Professor</td>\n",
       "      <td>Single</td>\n",
       "      <td>1199</td>\n",
       "    </tr>\n",
       "    <tr>\n",
       "      <th>23</th>\n",
       "      <td>Not Specified</td>\n",
       "      <td>Toronto</td>\n",
       "      <td>123771</td>\n",
       "      <td>Finance Executive</td>\n",
       "      <td>Married</td>\n",
       "      <td>4988</td>\n",
       "    </tr>\n",
       "    <tr>\n",
       "      <th>24</th>\n",
       "      <td>Not Specified</td>\n",
       "      <td>London</td>\n",
       "      <td>60222</td>\n",
       "      <td>Researcher</td>\n",
       "      <td>Common Law</td>\n",
       "      <td>2237</td>\n",
       "    </tr>\n",
       "    <tr>\n",
       "      <th>25</th>\n",
       "      <td>Female</td>\n",
       "      <td>Montreal</td>\n",
       "      <td>49374</td>\n",
       "      <td>Customer Service Manager</td>\n",
       "      <td>Single</td>\n",
       "      <td>1387</td>\n",
       "    </tr>\n",
       "    <tr>\n",
       "      <th>26</th>\n",
       "      <td>Male</td>\n",
       "      <td>Winnipeg</td>\n",
       "      <td>47485</td>\n",
       "      <td>Customer Service Manager</td>\n",
       "      <td>Single</td>\n",
       "      <td>1203</td>\n",
       "    </tr>\n",
       "  </tbody>\n",
       "</table>\n",
       "</div>"
      ],
      "text/plain": [
       "           Gender       City  Income                Occupation Marital_Status  \\\n",
       "0            Male     London   40400                   Teacher         Single   \n",
       "1          Female  Vancouver   62845       University Lecturer        Married   \n",
       "2          Female   Montreal   66439                   Analyst         Single   \n",
       "3          Female   Winnipeg  101547         Marketing Manager     Common Law   \n",
       "4            Male    Calgary   46424                   Analyst         Single   \n",
       "5            Male     London   70443         Real Estate Agent     Common Law   \n",
       "6   Not Specified   Winnipeg   57983                Researcher     Common Law   \n",
       "7            Male    Calgary   87062                 Professor        Married   \n",
       "8          Female     London   54759                Researcher        Married   \n",
       "9            Male    Toronto   97073                 Professor        Married   \n",
       "10         Female    Calgary  106505                  Engineer        Married   \n",
       "11  Not Specified    Calgary   66174                  Engineer     Common Law   \n",
       "12  Not Specified   Montreal   59369                   Analyst         Single   \n",
       "13         Female    Calgary   86825         Account Executive         Single   \n",
       "14           Male   Winnipeg   61500           Account Manager         Single   \n",
       "15           Male    Toronto   64145         Marketing Analyst     Common Law   \n",
       "16           Male    Toronto  123891       Operations Director     Common Law   \n",
       "17         Female   Winnipeg  107673         Investment Banker     Common Law   \n",
       "18         Female    Toronto   69109                   Teacher        Married   \n",
       "19           Male    Calgary   62459                Researcher        Married   \n",
       "20           Male    Toronto   78712       Associate Professor     Common Law   \n",
       "21           Male    Toronto   67107                Researcher         Single   \n",
       "22           Male     London   83477                 Professor         Single   \n",
       "23  Not Specified    Toronto  123771         Finance Executive        Married   \n",
       "24  Not Specified     London   60222                Researcher     Common Law   \n",
       "25         Female   Montreal   49374  Customer Service Manager         Single   \n",
       "26           Male   Winnipeg   47485  Customer Service Manager         Single   \n",
       "\n",
       "    Fixed_Monthly_Expenses  \n",
       "0                     2080  \n",
       "1                     2927  \n",
       "2                     2811  \n",
       "3                     3500  \n",
       "4                     1300  \n",
       "5                     2181  \n",
       "6                     1423  \n",
       "7                     2800  \n",
       "8                     2065  \n",
       "9                     3800  \n",
       "10                    4000  \n",
       "11                    2436  \n",
       "12                    1078  \n",
       "13                    2378  \n",
       "14                    1200  \n",
       "15                    2400  \n",
       "16                    4398  \n",
       "17                    3876  \n",
       "18                    2987  \n",
       "19                    2377  \n",
       "20                    2898  \n",
       "21                    1787  \n",
       "22                    1199  \n",
       "23                    4988  \n",
       "24                    2237  \n",
       "25                    1387  \n",
       "26                    1203  "
      ]
     },
     "execution_count": 3,
     "metadata": {},
     "output_type": "execute_result"
    }
   ],
   "source": [
    "df = pd.read_csv('/Users/rathanrajdasari/Downloads/DS&ML/exercises.csv')\n",
    "df"
   ]
  },
  {
   "cell_type": "markdown",
   "metadata": {},
   "source": [
    "### Question 3:\n",
    "\n",
    "Answer the following questions using the info(), describe(), groupby(), count(), mean(), corr(), sort_values() and agg() functions:\n",
    "\n",
    "* How many observations are there?\n",
    "* What data types does the data set have?\n",
    "* What is the average income in this data set?\n",
    "* What is the average monthly expenses in this dataset?\n",
    "* What is the average income by city in this dataset?\n",
    "* Which city has the most observations?\n",
    "* Which occupation has the most observations?\n",
    "* What is the average income by occupation?\n",
    "* What is the average monthly expenses by occupation?\n",
    "* What is the average income and monthly expenses by Marital Status?\n",
    "* Which people are most likely to have a high income, based on gender, occupation, city, or marital status?\n",
    "* What conclusions can you make about Toronto women's income and expenses?\n",
    "* Which city has the highest income?\n",
    "* Calculate the correlation between income and expenses."
   ]
  },
  {
   "cell_type": "code",
   "execution_count": null,
   "metadata": {},
   "outputs": [],
   "source": [
    "##Your code here"
   ]
  },
  {
   "cell_type": "code",
   "execution_count": 7,
   "metadata": {},
   "outputs": [
    {
     "data": {
      "text/plain": [
       "(27, 6)"
      ]
     },
     "execution_count": 7,
     "metadata": {},
     "output_type": "execute_result"
    }
   ],
   "source": [
    "df.shape #no of observations"
   ]
  },
  {
   "cell_type": "code",
   "execution_count": 8,
   "metadata": {},
   "outputs": [
    {
     "name": "stdout",
     "output_type": "stream",
     "text": [
      "<class 'pandas.core.frame.DataFrame'>\n",
      "RangeIndex: 27 entries, 0 to 26\n",
      "Data columns (total 6 columns):\n",
      " #   Column                  Non-Null Count  Dtype \n",
      "---  ------                  --------------  ----- \n",
      " 0   Gender                  27 non-null     object\n",
      " 1   City                    27 non-null     object\n",
      " 2   Income                  27 non-null     int64 \n",
      " 3   Occupation              27 non-null     object\n",
      " 4   Marital_Status          27 non-null     object\n",
      " 5   Fixed_Monthly_Expenses  27 non-null     int64 \n",
      "dtypes: int64(2), object(4)\n",
      "memory usage: 1.4+ KB\n"
     ]
    }
   ],
   "source": [
    "df.info() #datatypes in the dataset"
   ]
  },
  {
   "cell_type": "code",
   "execution_count": 9,
   "metadata": {},
   "outputs": [
    {
     "data": {
      "text/plain": [
       "74176.77777777778"
      ]
     },
     "execution_count": 9,
     "metadata": {},
     "output_type": "execute_result"
    }
   ],
   "source": [
    "df['Income'].mean() #average income"
   ]
  },
  {
   "cell_type": "code",
   "execution_count": 10,
   "metadata": {},
   "outputs": [
    {
     "data": {
      "text/plain": [
       "2508.0"
      ]
     },
     "execution_count": 10,
     "metadata": {},
     "output_type": "execute_result"
    }
   ],
   "source": [
    "df['Fixed_Monthly_Expenses'].mean()  #avg montly expenses"
   ]
  },
  {
   "cell_type": "code",
   "execution_count": 28,
   "metadata": {},
   "outputs": [
    {
     "data": {
      "text/html": [
       "<div>\n",
       "<style scoped>\n",
       "    .dataframe tbody tr th:only-of-type {\n",
       "        vertical-align: middle;\n",
       "    }\n",
       "\n",
       "    .dataframe tbody tr th {\n",
       "        vertical-align: top;\n",
       "    }\n",
       "\n",
       "    .dataframe thead th {\n",
       "        text-align: right;\n",
       "    }\n",
       "</style>\n",
       "<table border=\"1\" class=\"dataframe\">\n",
       "  <thead>\n",
       "    <tr style=\"text-align: right;\">\n",
       "      <th></th>\n",
       "      <th>Income</th>\n",
       "    </tr>\n",
       "    <tr>\n",
       "      <th>City</th>\n",
       "      <th></th>\n",
       "    </tr>\n",
       "  </thead>\n",
       "  <tbody>\n",
       "    <tr>\n",
       "      <th>Calgary</th>\n",
       "      <td>75908.166667</td>\n",
       "    </tr>\n",
       "    <tr>\n",
       "      <th>London</th>\n",
       "      <td>61860.200000</td>\n",
       "    </tr>\n",
       "    <tr>\n",
       "      <th>Montreal</th>\n",
       "      <td>58394.000000</td>\n",
       "    </tr>\n",
       "    <tr>\n",
       "      <th>Toronto</th>\n",
       "      <td>89115.428571</td>\n",
       "    </tr>\n",
       "    <tr>\n",
       "      <th>Vancouver</th>\n",
       "      <td>62845.000000</td>\n",
       "    </tr>\n",
       "    <tr>\n",
       "      <th>Winnipeg</th>\n",
       "      <td>75237.600000</td>\n",
       "    </tr>\n",
       "  </tbody>\n",
       "</table>\n",
       "</div>"
      ],
      "text/plain": [
       "                 Income\n",
       "City                   \n",
       "Calgary    75908.166667\n",
       "London     61860.200000\n",
       "Montreal   58394.000000\n",
       "Toronto    89115.428571\n",
       "Vancouver  62845.000000\n",
       "Winnipeg   75237.600000"
      ]
     },
     "execution_count": 28,
     "metadata": {},
     "output_type": "execute_result"
    }
   ],
   "source": [
    "#average income by city in this dataset\n",
    "df.groupby('City')[['Income']].mean()"
   ]
  },
  {
   "cell_type": "code",
   "execution_count": 20,
   "metadata": {},
   "outputs": [
    {
     "data": {
      "text/plain": [
       "0    Toronto\n",
       "Name: City, dtype: object"
      ]
     },
     "execution_count": 20,
     "metadata": {},
     "output_type": "execute_result"
    }
   ],
   "source": [
    "# city has the most observations\n",
    "df['City'].mode()"
   ]
  },
  {
   "cell_type": "code",
   "execution_count": 22,
   "metadata": {},
   "outputs": [
    {
     "data": {
      "text/plain": [
       "0    Researcher\n",
       "Name: Occupation, dtype: object"
      ]
     },
     "execution_count": 22,
     "metadata": {},
     "output_type": "execute_result"
    }
   ],
   "source": [
    "#occupation has the most observations\n",
    "df['Occupation'].mode()"
   ]
  },
  {
   "cell_type": "code",
   "execution_count": 27,
   "metadata": {},
   "outputs": [
    {
     "data": {
      "text/html": [
       "<div>\n",
       "<style scoped>\n",
       "    .dataframe tbody tr th:only-of-type {\n",
       "        vertical-align: middle;\n",
       "    }\n",
       "\n",
       "    .dataframe tbody tr th {\n",
       "        vertical-align: top;\n",
       "    }\n",
       "\n",
       "    .dataframe thead th {\n",
       "        text-align: right;\n",
       "    }\n",
       "</style>\n",
       "<table border=\"1\" class=\"dataframe\">\n",
       "  <thead>\n",
       "    <tr style=\"text-align: right;\">\n",
       "      <th></th>\n",
       "      <th>Income</th>\n",
       "    </tr>\n",
       "    <tr>\n",
       "      <th>Occupation</th>\n",
       "      <th></th>\n",
       "    </tr>\n",
       "  </thead>\n",
       "  <tbody>\n",
       "    <tr>\n",
       "      <th>Account Executive</th>\n",
       "      <td>86825.000000</td>\n",
       "    </tr>\n",
       "    <tr>\n",
       "      <th>Account Manager</th>\n",
       "      <td>61500.000000</td>\n",
       "    </tr>\n",
       "    <tr>\n",
       "      <th>Analyst</th>\n",
       "      <td>57410.666667</td>\n",
       "    </tr>\n",
       "    <tr>\n",
       "      <th>Associate Professor</th>\n",
       "      <td>78712.000000</td>\n",
       "    </tr>\n",
       "    <tr>\n",
       "      <th>Customer Service Manager</th>\n",
       "      <td>48429.500000</td>\n",
       "    </tr>\n",
       "    <tr>\n",
       "      <th>Engineer</th>\n",
       "      <td>86339.500000</td>\n",
       "    </tr>\n",
       "    <tr>\n",
       "      <th>Finance Executive</th>\n",
       "      <td>123771.000000</td>\n",
       "    </tr>\n",
       "    <tr>\n",
       "      <th>Investment Banker</th>\n",
       "      <td>107673.000000</td>\n",
       "    </tr>\n",
       "    <tr>\n",
       "      <th>Marketing Analyst</th>\n",
       "      <td>64145.000000</td>\n",
       "    </tr>\n",
       "    <tr>\n",
       "      <th>Marketing Manager</th>\n",
       "      <td>101547.000000</td>\n",
       "    </tr>\n",
       "    <tr>\n",
       "      <th>Operations Director</th>\n",
       "      <td>123891.000000</td>\n",
       "    </tr>\n",
       "    <tr>\n",
       "      <th>Professor</th>\n",
       "      <td>89204.000000</td>\n",
       "    </tr>\n",
       "    <tr>\n",
       "      <th>Real Estate Agent</th>\n",
       "      <td>70443.000000</td>\n",
       "    </tr>\n",
       "    <tr>\n",
       "      <th>Researcher</th>\n",
       "      <td>60506.000000</td>\n",
       "    </tr>\n",
       "    <tr>\n",
       "      <th>Teacher</th>\n",
       "      <td>54754.500000</td>\n",
       "    </tr>\n",
       "    <tr>\n",
       "      <th>University Lecturer</th>\n",
       "      <td>62845.000000</td>\n",
       "    </tr>\n",
       "  </tbody>\n",
       "</table>\n",
       "</div>"
      ],
      "text/plain": [
       "                                 Income\n",
       "Occupation                             \n",
       "Account Executive          86825.000000\n",
       "Account Manager            61500.000000\n",
       "Analyst                    57410.666667\n",
       "Associate Professor        78712.000000\n",
       "Customer Service Manager   48429.500000\n",
       "Engineer                   86339.500000\n",
       "Finance Executive         123771.000000\n",
       "Investment Banker         107673.000000\n",
       "Marketing Analyst          64145.000000\n",
       "Marketing Manager         101547.000000\n",
       "Operations Director       123891.000000\n",
       "Professor                  89204.000000\n",
       "Real Estate Agent          70443.000000\n",
       "Researcher                 60506.000000\n",
       "Teacher                    54754.500000\n",
       "University Lecturer        62845.000000"
      ]
     },
     "execution_count": 27,
     "metadata": {},
     "output_type": "execute_result"
    }
   ],
   "source": [
    "#average income by occupation\n",
    "df.groupby('Occupation')[['Income']].mean()"
   ]
  },
  {
   "cell_type": "code",
   "execution_count": 26,
   "metadata": {},
   "outputs": [
    {
     "data": {
      "text/html": [
       "<div>\n",
       "<style scoped>\n",
       "    .dataframe tbody tr th:only-of-type {\n",
       "        vertical-align: middle;\n",
       "    }\n",
       "\n",
       "    .dataframe tbody tr th {\n",
       "        vertical-align: top;\n",
       "    }\n",
       "\n",
       "    .dataframe thead th {\n",
       "        text-align: right;\n",
       "    }\n",
       "</style>\n",
       "<table border=\"1\" class=\"dataframe\">\n",
       "  <thead>\n",
       "    <tr style=\"text-align: right;\">\n",
       "      <th></th>\n",
       "      <th>Fixed_Monthly_Expenses</th>\n",
       "    </tr>\n",
       "    <tr>\n",
       "      <th>Occupation</th>\n",
       "      <th></th>\n",
       "    </tr>\n",
       "  </thead>\n",
       "  <tbody>\n",
       "    <tr>\n",
       "      <th>Account Executive</th>\n",
       "      <td>2378.000000</td>\n",
       "    </tr>\n",
       "    <tr>\n",
       "      <th>Account Manager</th>\n",
       "      <td>1200.000000</td>\n",
       "    </tr>\n",
       "    <tr>\n",
       "      <th>Analyst</th>\n",
       "      <td>1729.666667</td>\n",
       "    </tr>\n",
       "    <tr>\n",
       "      <th>Associate Professor</th>\n",
       "      <td>2898.000000</td>\n",
       "    </tr>\n",
       "    <tr>\n",
       "      <th>Customer Service Manager</th>\n",
       "      <td>1295.000000</td>\n",
       "    </tr>\n",
       "    <tr>\n",
       "      <th>Engineer</th>\n",
       "      <td>3218.000000</td>\n",
       "    </tr>\n",
       "    <tr>\n",
       "      <th>Finance Executive</th>\n",
       "      <td>4988.000000</td>\n",
       "    </tr>\n",
       "    <tr>\n",
       "      <th>Investment Banker</th>\n",
       "      <td>3876.000000</td>\n",
       "    </tr>\n",
       "    <tr>\n",
       "      <th>Marketing Analyst</th>\n",
       "      <td>2400.000000</td>\n",
       "    </tr>\n",
       "    <tr>\n",
       "      <th>Marketing Manager</th>\n",
       "      <td>3500.000000</td>\n",
       "    </tr>\n",
       "    <tr>\n",
       "      <th>Operations Director</th>\n",
       "      <td>4398.000000</td>\n",
       "    </tr>\n",
       "    <tr>\n",
       "      <th>Professor</th>\n",
       "      <td>2599.666667</td>\n",
       "    </tr>\n",
       "    <tr>\n",
       "      <th>Real Estate Agent</th>\n",
       "      <td>2181.000000</td>\n",
       "    </tr>\n",
       "    <tr>\n",
       "      <th>Researcher</th>\n",
       "      <td>1977.800000</td>\n",
       "    </tr>\n",
       "    <tr>\n",
       "      <th>Teacher</th>\n",
       "      <td>2533.500000</td>\n",
       "    </tr>\n",
       "    <tr>\n",
       "      <th>University Lecturer</th>\n",
       "      <td>2927.000000</td>\n",
       "    </tr>\n",
       "  </tbody>\n",
       "</table>\n",
       "</div>"
      ],
      "text/plain": [
       "                          Fixed_Monthly_Expenses\n",
       "Occupation                                      \n",
       "Account Executive                    2378.000000\n",
       "Account Manager                      1200.000000\n",
       "Analyst                              1729.666667\n",
       "Associate Professor                  2898.000000\n",
       "Customer Service Manager             1295.000000\n",
       "Engineer                             3218.000000\n",
       "Finance Executive                    4988.000000\n",
       "Investment Banker                    3876.000000\n",
       "Marketing Analyst                    2400.000000\n",
       "Marketing Manager                    3500.000000\n",
       "Operations Director                  4398.000000\n",
       "Professor                            2599.666667\n",
       "Real Estate Agent                    2181.000000\n",
       "Researcher                           1977.800000\n",
       "Teacher                              2533.500000\n",
       "University Lecturer                  2927.000000"
      ]
     },
     "execution_count": 26,
     "metadata": {},
     "output_type": "execute_result"
    }
   ],
   "source": [
    "#average monthly expenses by occupation\n",
    "df.groupby('Occupation')[['Fixed_Monthly_Expenses']].mean()"
   ]
  },
  {
   "cell_type": "code",
   "execution_count": 25,
   "metadata": {},
   "outputs": [
    {
     "data": {
      "text/html": [
       "<div>\n",
       "<style scoped>\n",
       "    .dataframe tbody tr th:only-of-type {\n",
       "        vertical-align: middle;\n",
       "    }\n",
       "\n",
       "    .dataframe tbody tr th {\n",
       "        vertical-align: top;\n",
       "    }\n",
       "\n",
       "    .dataframe thead th {\n",
       "        text-align: right;\n",
       "    }\n",
       "</style>\n",
       "<table border=\"1\" class=\"dataframe\">\n",
       "  <thead>\n",
       "    <tr style=\"text-align: right;\">\n",
       "      <th></th>\n",
       "      <th>Income</th>\n",
       "      <th>Fixed_Monthly_Expenses</th>\n",
       "    </tr>\n",
       "    <tr>\n",
       "      <th>Marital_Status</th>\n",
       "      <th></th>\n",
       "      <th></th>\n",
       "    </tr>\n",
       "  </thead>\n",
       "  <tbody>\n",
       "    <tr>\n",
       "      <th>Common Law</th>\n",
       "      <td>81198.888889</td>\n",
       "      <td>2816.555556</td>\n",
       "    </tr>\n",
       "    <tr>\n",
       "      <th>Married</th>\n",
       "      <td>82947.875000</td>\n",
       "      <td>3243.000000</td>\n",
       "    </tr>\n",
       "    <tr>\n",
       "      <th>Single</th>\n",
       "      <td>60840.000000</td>\n",
       "      <td>1642.300000</td>\n",
       "    </tr>\n",
       "  </tbody>\n",
       "</table>\n",
       "</div>"
      ],
      "text/plain": [
       "                      Income  Fixed_Monthly_Expenses\n",
       "Marital_Status                                      \n",
       "Common Law      81198.888889             2816.555556\n",
       "Married         82947.875000             3243.000000\n",
       "Single          60840.000000             1642.300000"
      ]
     },
     "execution_count": 25,
     "metadata": {},
     "output_type": "execute_result"
    }
   ],
   "source": [
    "#average income and monthly expenses by Marital Status\n",
    "df.groupby('Marital_Status')[['Income','Fixed_Monthly_Expenses']].mean()"
   ]
  },
  {
   "cell_type": "code",
   "execution_count": 115,
   "metadata": {},
   "outputs": [
    {
     "data": {
      "text/html": [
       "<div>\n",
       "<style scoped>\n",
       "    .dataframe tbody tr th:only-of-type {\n",
       "        vertical-align: middle;\n",
       "    }\n",
       "\n",
       "    .dataframe tbody tr th {\n",
       "        vertical-align: top;\n",
       "    }\n",
       "\n",
       "    .dataframe thead th {\n",
       "        text-align: right;\n",
       "    }\n",
       "</style>\n",
       "<table border=\"1\" class=\"dataframe\">\n",
       "  <thead>\n",
       "    <tr style=\"text-align: right;\">\n",
       "      <th></th>\n",
       "      <th>Gender</th>\n",
       "      <th>Occupation</th>\n",
       "      <th>City</th>\n",
       "      <th>Marital_Status</th>\n",
       "    </tr>\n",
       "    <tr>\n",
       "      <th>Income</th>\n",
       "      <th></th>\n",
       "      <th></th>\n",
       "      <th></th>\n",
       "      <th></th>\n",
       "    </tr>\n",
       "  </thead>\n",
       "  <tbody>\n",
       "    <tr>\n",
       "      <th>123891</th>\n",
       "      <td>Male</td>\n",
       "      <td>Operations Director</td>\n",
       "      <td>Toronto</td>\n",
       "      <td>Common Law</td>\n",
       "    </tr>\n",
       "  </tbody>\n",
       "</table>\n",
       "</div>"
      ],
      "text/plain": [
       "       Gender           Occupation     City Marital_Status\n",
       "Income                                                    \n",
       "123891   Male  Operations Director  Toronto     Common Law"
      ]
     },
     "execution_count": 115,
     "metadata": {},
     "output_type": "execute_result"
    }
   ],
   "source": [
    "#people who are most likely to have a high income, based on gender, occupation, city, or marital status\n",
    "df2 = df.groupby(by=['Income'])[['Gender','Occupation','City','Marital_Status']].max()\n",
    "df2=df2.sort_values(by='Income',ascending= False)\n",
    "df2.head(1)"
   ]
  },
  {
   "cell_type": "code",
   "execution_count": 51,
   "metadata": {},
   "outputs": [
    {
     "data": {
      "text/html": [
       "<div>\n",
       "<style scoped>\n",
       "    .dataframe tbody tr th:only-of-type {\n",
       "        vertical-align: middle;\n",
       "    }\n",
       "\n",
       "    .dataframe tbody tr th {\n",
       "        vertical-align: top;\n",
       "    }\n",
       "\n",
       "    .dataframe thead th {\n",
       "        text-align: right;\n",
       "    }\n",
       "</style>\n",
       "<table border=\"1\" class=\"dataframe\">\n",
       "  <thead>\n",
       "    <tr style=\"text-align: right;\">\n",
       "      <th></th>\n",
       "      <th>Income</th>\n",
       "      <th>Fixed_Monthly_Expenses</th>\n",
       "    </tr>\n",
       "  </thead>\n",
       "  <tbody>\n",
       "    <tr>\n",
       "      <th>18</th>\n",
       "      <td>69109</td>\n",
       "      <td>2987</td>\n",
       "    </tr>\n",
       "  </tbody>\n",
       "</table>\n",
       "</div>"
      ],
      "text/plain": [
       "    Income  Fixed_Monthly_Expenses\n",
       "18   69109                    2987"
      ]
     },
     "execution_count": 51,
     "metadata": {},
     "output_type": "execute_result"
    }
   ],
   "source": [
    "#What conclusions can you make about Toronto women's income and expenses\n",
    "df[(df['City'].str.startswith('T')) & (df['Gender'].str.startswith('F'))][['Income','Fixed_Monthly_Expenses']]\n"
   ]
  },
  {
   "cell_type": "markdown",
   "metadata": {},
   "source": [
    "there is only one woman working at Toronto with Income of 69109 and monthly expenses 2987"
   ]
  },
  {
   "cell_type": "code",
   "execution_count": 102,
   "metadata": {},
   "outputs": [
    {
     "data": {
      "text/plain": [
       "'Toronto'"
      ]
     },
     "execution_count": 102,
     "metadata": {},
     "output_type": "execute_result"
    }
   ],
   "source": [
    "#Which city has the highest income?\n",
    "\"\"\"nf = df.sort_values(by='Income', ascending = False)\n",
    "nf.iloc[0,1]\"\"\"\n",
    "df.groupby('City')['Income'].max().idxmax()"
   ]
  },
  {
   "cell_type": "code",
   "execution_count": 104,
   "metadata": {},
   "outputs": [
    {
     "data": {
      "text/html": [
       "<div>\n",
       "<style scoped>\n",
       "    .dataframe tbody tr th:only-of-type {\n",
       "        vertical-align: middle;\n",
       "    }\n",
       "\n",
       "    .dataframe tbody tr th {\n",
       "        vertical-align: top;\n",
       "    }\n",
       "\n",
       "    .dataframe thead th {\n",
       "        text-align: right;\n",
       "    }\n",
       "</style>\n",
       "<table border=\"1\" class=\"dataframe\">\n",
       "  <thead>\n",
       "    <tr style=\"text-align: right;\">\n",
       "      <th></th>\n",
       "      <th>Income</th>\n",
       "      <th>Fixed_Monthly_Expenses</th>\n",
       "    </tr>\n",
       "  </thead>\n",
       "  <tbody>\n",
       "    <tr>\n",
       "      <th>Income</th>\n",
       "      <td>1.000000</td>\n",
       "      <td>0.843101</td>\n",
       "    </tr>\n",
       "    <tr>\n",
       "      <th>Fixed_Monthly_Expenses</th>\n",
       "      <td>0.843101</td>\n",
       "      <td>1.000000</td>\n",
       "    </tr>\n",
       "  </tbody>\n",
       "</table>\n",
       "</div>"
      ],
      "text/plain": [
       "                          Income  Fixed_Monthly_Expenses\n",
       "Income                  1.000000                0.843101\n",
       "Fixed_Monthly_Expenses  0.843101                1.000000"
      ]
     },
     "execution_count": 104,
     "metadata": {},
     "output_type": "execute_result"
    }
   ],
   "source": [
    "#Calculate the correlation between income and expenses.\n",
    "df[['Income','Fixed_Monthly_Expenses']].corr()"
   ]
  },
  {
   "cell_type": "code",
   "execution_count": 105,
   "metadata": {},
   "outputs": [
    {
     "data": {
      "text/plain": [
       "0.8431007806767964"
      ]
     },
     "execution_count": 105,
     "metadata": {},
     "output_type": "execute_result"
    }
   ],
   "source": [
    "df['Income'].corr(df['Fixed_Monthly_Expenses'])"
   ]
  },
  {
   "cell_type": "code",
   "execution_count": null,
   "metadata": {},
   "outputs": [],
   "source": []
  },
  {
   "cell_type": "code",
   "execution_count": null,
   "metadata": {},
   "outputs": [],
   "source": []
  }
 ],
 "metadata": {
  "kernelspec": {
   "display_name": "Python 3 (ipykernel)",
   "language": "python",
   "name": "python3"
  },
  "language_info": {
   "codemirror_mode": {
    "name": "ipython",
    "version": 3
   },
   "file_extension": ".py",
   "mimetype": "text/x-python",
   "name": "python",
   "nbconvert_exporter": "python",
   "pygments_lexer": "ipython3",
   "version": "3.11.7"
  }
 },
 "nbformat": 4,
 "nbformat_minor": 4
}
